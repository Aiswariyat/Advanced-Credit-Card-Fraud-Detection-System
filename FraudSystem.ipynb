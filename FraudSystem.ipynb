{
  "metadata": {
    "kernelspec": {
      "display_name": "Python 3",
      "language": "python",
      "name": "python3"
    },
    "language_info": {
      "name": "python",
      "version": "3.6.4",
      "mimetype": "text/x-python",
      "codemirror_mode": {
        "name": "ipython",
        "version": 3
      },
      "pygments_lexer": "ipython3",
      "nbconvert_exporter": "python",
      "file_extension": ".py"
    },
    "kaggle": {
      "accelerator": "none",
      "dataSources": [
        {
          "sourceId": 23498,
          "sourceType": "datasetVersion",
          "datasetId": 310
        }
      ],
      "dockerImageVersionId": 18195,
      "isInternetEnabled": false,
      "language": "python",
      "sourceType": "notebook",
      "isGpuEnabled": false
    },
    "colab": {
      "provenance": []
    }
  },
  "nbformat_minor": 0,
  "nbformat": 4,
  "cells": [
    {
      "cell_type": "code",
      "source": [
        "import numpy as np\n",
        "import pandas as pd # data processing, CSV file I/O (e.g. pd.read_csv)\n",
        "import sys\n",
        "import matplotlib.pyplot as plt\n",
        "import seaborn as sns\n",
        "import scipy\n",
        "import sklearn"
      ],
      "metadata": {
        "_uuid": "8f2839f25d086af736a60e9eeb907d3b93b6e0e5",
        "_cell_guid": "b1076dfc-b9ad-4769-8c92-a6c4dae69d19",
        "trusted": true,
        "id": "RbXqMWTZTZYR"
      },
      "execution_count": null,
      "outputs": []
    },
    {
      "cell_type": "code",
      "source": [
        "data = pd.read_csv('../input/creditcard.csv')"
      ],
      "metadata": {
        "_cell_guid": "79c7e3d0-c299-4dcb-8224-4455121ee9b0",
        "_uuid": "d629ff2d2480ee46fbb7e2d37f6b5fab8052498a",
        "trusted": true,
        "id": "LOyavxvTTZYS"
      },
      "execution_count": null,
      "outputs": []
    },
    {
      "cell_type": "code",
      "source": [
        "print(data.columns)"
      ],
      "metadata": {
        "_uuid": "1cab01ec81b074d9c43a3be71e6e4f9a623a5f6b",
        "trusted": true,
        "id": "OjDdh181TZYT"
      },
      "execution_count": null,
      "outputs": []
    },
    {
      "cell_type": "code",
      "source": [
        "data.shape"
      ],
      "metadata": {
        "_uuid": "792df7c23926214695d3b64f676ab51862f328b8",
        "trusted": true,
        "id": "NoE4QfGXTZYT"
      },
      "execution_count": null,
      "outputs": []
    },
    {
      "cell_type": "code",
      "source": [
        "# random_state helps assure that you always get the same output when you split the data\n",
        "# this helps create reproducible results and it does not actually matter what the number is\n",
        "# frac is percentage of the data that will be returned\n",
        "data = data.sample(frac = 0.2, random_state = 1)\n",
        "print(data.shape)"
      ],
      "metadata": {
        "_uuid": "2c6f09368473bf72107bba36dfe7235051acd31b",
        "trusted": true,
        "id": "KKOQc9s2TZYT"
      },
      "execution_count": null,
      "outputs": []
    },
    {
      "cell_type": "code",
      "source": [
        "# plot the histogram of each parameter\n",
        "data.hist(figsize = (20, 20))\n",
        "plt.show()"
      ],
      "metadata": {
        "_uuid": "34e1448b2fa88f0eaf32f04eb176b6d11ba954f5",
        "trusted": true,
        "id": "mnmWeTomTZYT"
      },
      "execution_count": null,
      "outputs": []
    },
    {
      "cell_type": "code",
      "source": [
        "# determine the number of fraud cases\n",
        "fraud = data[data['Class'] == 1]\n",
        "valid = data[data['Class'] == 0]\n",
        "\n",
        "outlier_fraction = len(fraud) / float(len(valid))\n",
        "print(outlier_fraction)\n",
        "\n",
        "print('Fraud Cases: {}'.format(len(fraud)))\n",
        "print('Valid Cases: {}'.format(len(valid)))"
      ],
      "metadata": {
        "_uuid": "3282363d7df3791eedba13adf873d47efa65ed31",
        "trusted": true,
        "id": "KWOwu3SZTZYU"
      },
      "execution_count": null,
      "outputs": []
    },
    {
      "cell_type": "code",
      "source": [
        "# correlation matrix\n",
        "corrmat = data.corr()\n",
        "fig = plt.figure(figsize = (12, 9))\n",
        "\n",
        "sns.heatmap(corrmat, vmax = .8, square = True)\n",
        "plt.show()"
      ],
      "metadata": {
        "_uuid": "65b43c7c4494f1f5820572f401fbe581d96fdffc",
        "trusted": true,
        "id": "9m05MphQTZYU"
      },
      "execution_count": null,
      "outputs": []
    },
    {
      "cell_type": "code",
      "source": [
        "# get the columns from the dataframe\n",
        "columns = data.columns.tolist()\n",
        "\n",
        "# filter the columns to remove the data we do not want\n",
        "columns = [c for c in columns if c not in ['Class']]\n",
        "\n",
        "# store the variable we will be predicting on which is class\n",
        "target = 'Class'\n",
        "\n",
        "# X includes everything except our class column\n",
        "X = data[columns]\n",
        "# Y includes all the class labels for each sample\n",
        "# this is also one-dimensional\n",
        "Y = data[target]\n",
        "\n",
        "# print the shapes of X and Y\n",
        "print(X.shape)\n",
        "print(Y.shape)"
      ],
      "metadata": {
        "scrolled": true,
        "_uuid": "59840d6340e15a90effb418203efcf1c4a57544d",
        "trusted": true,
        "id": "M4ZDJ7BETZYU"
      },
      "execution_count": null,
      "outputs": []
    },
    {
      "cell_type": "code",
      "source": [
        "from sklearn.metrics import classification_report, accuracy_score\n",
        "from sklearn.ensemble import IsolationForest\n",
        "from sklearn.neighbors import LocalOutlierFactor"
      ],
      "metadata": {
        "_uuid": "7db90b98b9edd868d1bc701773526edd4c13c251",
        "trusted": true,
        "id": "U213s-4TTZYV"
      },
      "execution_count": null,
      "outputs": []
    },
    {
      "cell_type": "code",
      "source": [
        "# define a random state\n",
        "state = 1\n",
        "\n",
        "# define the outlier detection methods\n",
        "classifiers = {\n",
        "    # contamination is the number of outliers we think there are\n",
        "    'Isolation Forest': IsolationForest(max_samples = len(X),\n",
        "                                       contamination = outlier_fraction,\n",
        "                                       random_state = state),\n",
        "    # number of neighbors to consider, the higher the percentage of outliers the higher you want to make this number\n",
        "    'Local Outlier Factor': LocalOutlierFactor(\n",
        "    n_neighbors = 20,\n",
        "    contamination = outlier_fraction)\n",
        "}"
      ],
      "metadata": {
        "_uuid": "e2ea0e7e5dade122632dd9363728da35e8ca6e9f",
        "trusted": true,
        "id": "owSu9D7vTZYV"
      },
      "execution_count": null,
      "outputs": []
    },
    {
      "cell_type": "code",
      "source": [
        "n_outliers = len(fraud)\n",
        "\n",
        "for i, (clf_name, clf) in enumerate(classifiers.items()):\n",
        "\n",
        "    # fit the data and tag outliers\n",
        "    if clf_name == 'Local Outlier Factor':\n",
        "        y_pred = clf.fit_predict(X)\n",
        "        scores_pred = clf.negative_outlier_factor_\n",
        "    else:\n",
        "        clf.fit(X)\n",
        "        scores_pred = clf.decision_function(X)\n",
        "        y_pred = clf.predict(X)\n",
        "\n",
        "    # reshape the prediction values to 0 for valid and 1 for fraud\n",
        "    y_pred[y_pred == 1] = 0\n",
        "    y_pred[y_pred == -1] = 1\n",
        "\n",
        "    # calculate the number of errors\n",
        "    n_errors = (y_pred != Y).sum()\n",
        "\n",
        "    # classification matrix\n",
        "    print('{}: {}'.format(clf_name, n_errors))\n",
        "    print(accuracy_score(Y, y_pred))\n",
        "    print(classification_report(Y, y_pred))"
      ],
      "metadata": {
        "_uuid": "1b54a94996a0d789679973fcd1ac60d6496ebb9b",
        "trusted": true,
        "id": "qrBasGAfTZYV"
      },
      "execution_count": null,
      "outputs": []
    }
  ]
}